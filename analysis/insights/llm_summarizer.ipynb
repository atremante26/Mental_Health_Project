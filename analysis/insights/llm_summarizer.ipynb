{
 "cells": [
  {
   "cell_type": "code",
   "execution_count": null,
   "id": "a7947564",
   "metadata": {},
   "outputs": [],
   "source": [
    "# Imports\n",
    "import pandas as pd\n",
    "import numpy as np\n",
    "import sys\n",
    "sys.path.append('..')\n",
    "\n",
    "from load_data import load_dataset\n",
    "import google.generativeai as genai\n",
    "from insights.prompt_templates import *\n",
    "import json\n",
    "from datetime import datetime\n",
    "import os\n",
    "from dotenv import load_dotenv\n",
    "load_dotenv()"
   ]
  },
  {
   "cell_type": "code",
   "execution_count": null,
   "id": "9df96540",
   "metadata": {},
   "outputs": [],
   "source": [
    "# Configure Gemini\n",
    "genai.configure(api_key=os.environ.get(\"GEMINI_API_KEY\"))\n",
    "model = genai.GenerativeModel('gemini-pro')\n",
    "\n",
    "print(\"Gemini model loaded successfully\")"
   ]
  },
  {
   "cell_type": "code",
   "execution_count": null,
   "id": "8e3b3144",
   "metadata": {},
   "outputs": [],
   "source": [
    "# Load Reddit Data\n",
    "reddit_df = load_dataset('reddit')\n",
    "print(f\"Loaded {len(reddit_df)} Reddit posts\")\n",
    "print(f\"Columns: {list(reddit_df.columns)}\")\n",
    "\n",
    "# Sample the data to see text content\n",
    "print(\"\\nSample post:\")\n",
    "print(reddit_df[['title', 'text', 'subreddit', 'score']].iloc[0])"
   ]
  },
  {
   "cell_type": "code",
   "execution_count": null,
   "id": "2dbb0f9c",
   "metadata": {},
   "outputs": [],
   "source": []
  }
 ],
 "metadata": {
  "language_info": {
   "name": "python"
  }
 },
 "nbformat": 4,
 "nbformat_minor": 5
}
