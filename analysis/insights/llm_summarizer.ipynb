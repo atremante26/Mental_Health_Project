{
 "cells": [
  {
   "cell_type": "code",
   "execution_count": null,
   "id": "a7947564",
   "metadata": {},
   "outputs": [],
   "source": [
    "# Imports\n",
    "import pandas as pd\n",
    "import numpy as np\n",
    "import sys\n",
    "sys.path.append('..')\n",
    "\n",
    "from load_data import load_dataset\n",
    "import google.generativeai as genai\n",
    "from insights.prompt_templates import *\n",
    "import json\n",
    "from datetime import datetime\n",
    "import os\n",
    "from utils.preprocessing import prepare_reddit_for_llm, create_statistical_summary_for_llm\n",
    "from utils.evaluation import analyze_comprehensive_mental_health\n",
    "from dotenv import load_dotenv\n",
    "load_dotenv()"
   ]
  },
  {
   "cell_type": "code",
   "execution_count": null,
   "id": "9df96540",
   "metadata": {},
   "outputs": [],
   "source": [
    "# Configure Gemini\n",
    "genai.configure(api_key=os.environ.get(\"GEMINI_API_KEY\"))\n",
    "model = genai.GenerativeModel('gemini-pro')\n",
    "\n",
    "print(\"Gemini model loaded successfully\")"
   ]
  },
  {
   "cell_type": "code",
   "execution_count": null,
   "id": "8e3b3144",
   "metadata": {},
   "outputs": [],
   "source": [
    "# Load Reddit Data\n",
    "reddit_df = load_dataset('reddit')\n",
    "\n",
    "# Load CDC data\n",
    "cdc_df = load_dataset('cdc')\n",
    "\n",
    "# Load WHO Suicide data\n",
    "who_suicide_df = load_dataset('who_suicide')\n",
    "\n",
    "# Load Mental Health Care data\n",
    "mental_health_care_df = load_dataset('mental_health_care')"
   ]
  },
  {
   "cell_type": "code",
   "execution_count": null,
   "id": "2dbb0f9c",
   "metadata": {},
   "outputs": [],
   "source": [
    "# Prepare Reddit sample\n",
    "reddit_sample = prepare_reddit_for_llm(reddit_df)\n",
    "\n",
    "# Generate statistical summary\n",
    "statistical_data = create_statistical_summary_for_llm(cdc_df, who_suicide_df, mental_health_care_df)\n",
    "\n",
    "# Format statistical data for LLM\n",
    "stats_text = \"\"\n",
    "for dataset, stats in statistical_data.items():\n",
    "    stats_text += f\"\\n{dataset}:\\n\"\n",
    "    for key, value in stats.items():\n",
    "        stats_text += f\"- {key}: {value}\\n\"\n"
   ]
  },
  {
   "cell_type": "code",
   "execution_count": null,
   "id": "08522c5d",
   "metadata": {},
   "outputs": [],
   "source": [
    "# Run analysis with LLM\n",
    "comprehensive_analysis = analyze_comprehensive_mental_health(reddit_sample, stats_text, model)\n",
    "\n",
    "if comprehensive_analysis:\n",
    "    print(\"\\n\" + \"=\"*80)\n",
    "    print(\"COMPREHENSIVE MENTAL HEALTH DATA ANALYSIS\")\n",
    "    print(\"=\"*80)\n",
    "    print(comprehensive_analysis)\n",
    "else:\n",
    "    print(\"Analysis failed\")"
   ]
  },
  {
   "cell_type": "code",
   "execution_count": null,
   "id": "52cd09f0",
   "metadata": {},
   "outputs": [],
   "source": [
    "# Save analysis results\n",
    "if comprehensive_analysis:\n",
    "    # Save analysis to outputs\n",
    "    os.makedirs('../outputs/reports', exist_ok=True)\n",
    "    \n",
    "    # Create comprehensive report with metadata from all sources\n",
    "    report = {\n",
    "        'timestamp': datetime.now().isoformat(),\n",
    "        'analysis_type': 'comprehensive_mental_health',\n",
    "        'data_sources': {\n",
    "            'reddit_sample_size': len(reddit_sample.split('---'))-1,\n",
    "            'statistical_sources': list(statistical_data.keys()),\n",
    "            'cdc_records': len(cdc_df) if len(cdc_df) > 0 else 0,\n",
    "            'who_records': len(who_suicide_df) if len(who_suicide_df) > 0 else 0,\n",
    "            'care_records': len(mental_health_care_df) if len(mental_health_care_df) > 0 else 0\n",
    "        },\n",
    "        'analysis': comprehensive_analysis,\n",
    "        'data_summary': statistical_data\n",
    "    }\n",
    "    \n",
    "    filename = f\"../outputs/reports/comprehensive_mental_health_{datetime.now().strftime('%Y%m%d')}.json\"\n",
    "    \n",
    "    with open(filename, 'w') as f:\n",
    "        json.dump(report, f, indent=2, default=str)\n",
    "\n",
    "else:\n",
    "    print(\"No analysis to save - comprehensive analysis failed\")"
   ]
  }
 ],
 "metadata": {
  "language_info": {
   "name": "python"
  }
 },
 "nbformat": 4,
 "nbformat_minor": 5
}
