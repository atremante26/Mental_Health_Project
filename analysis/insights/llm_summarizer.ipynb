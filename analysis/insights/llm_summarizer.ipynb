{
 "cells": [
  {
   "cell_type": "code",
   "execution_count": 2,
   "id": "a7947564",
   "metadata": {},
   "outputs": [
    {
     "ename": "ModuleNotFoundError",
     "evalue": "No module named 'insights'",
     "output_type": "error",
     "traceback": [
      "\u001b[31m---------------------------------------------------------------------------\u001b[39m",
      "\u001b[31mModuleNotFoundError\u001b[39m                       Traceback (most recent call last)",
      "\u001b[36mCell\u001b[39m\u001b[36m \u001b[39m\u001b[32mIn[2]\u001b[39m\u001b[32m, line 16\u001b[39m\n\u001b[32m     14\u001b[39m \u001b[38;5;28;01mfrom\u001b[39;00m\u001b[38;5;250m \u001b[39m\u001b[34;01manalysis\u001b[39;00m\u001b[34;01m.\u001b[39;00m\u001b[34;01minsights\u001b[39;00m\u001b[34;01m.\u001b[39;00m\u001b[34;01mprompt_templates\u001b[39;00m\u001b[38;5;250m \u001b[39m\u001b[38;5;28;01mimport\u001b[39;00m *\n\u001b[32m     15\u001b[39m \u001b[38;5;28;01mfrom\u001b[39;00m\u001b[38;5;250m \u001b[39m\u001b[34;01manalysis\u001b[39;00m\u001b[34;01m.\u001b[39;00m\u001b[34;01mutils\u001b[39;00m\u001b[34;01m.\u001b[39;00m\u001b[34;01mpreprocessing\u001b[39;00m\u001b[38;5;250m \u001b[39m\u001b[38;5;28;01mimport\u001b[39;00m prepare_reddit_for_llm, create_statistical_summary_for_llm\n\u001b[32m---> \u001b[39m\u001b[32m16\u001b[39m \u001b[38;5;28;01mfrom\u001b[39;00m\u001b[38;5;250m \u001b[39m\u001b[34;01manalysis\u001b[39;00m\u001b[34;01m.\u001b[39;00m\u001b[34;01mutils\u001b[39;00m\u001b[34;01m.\u001b[39;00m\u001b[34;01mevaluation\u001b[39;00m\u001b[38;5;250m \u001b[39m\u001b[38;5;28;01mimport\u001b[39;00m analyze_comprehensive_mental_health\n\u001b[32m     18\u001b[39m \u001b[38;5;28;01mfrom\u001b[39;00m\u001b[38;5;250m \u001b[39m\u001b[34;01mdotenv\u001b[39;00m\u001b[38;5;250m \u001b[39m\u001b[38;5;28;01mimport\u001b[39;00m load_dotenv\n\u001b[32m     19\u001b[39m load_dotenv()\n",
      "\u001b[36mFile \u001b[39m\u001b[32m~/Desktop/Computer Science/Mental_Health_Project/analysis/utils/evaluation.py:2\u001b[39m\n\u001b[32m      1\u001b[39m \u001b[38;5;28;01mfrom\u001b[39;00m\u001b[38;5;250m \u001b[39m\u001b[34;01msklearn\u001b[39;00m\u001b[34;01m.\u001b[39;00m\u001b[34;01mmetrics\u001b[39;00m\u001b[38;5;250m \u001b[39m\u001b[38;5;28;01mimport\u001b[39;00m silhouette_score, mean_absolute_error, mean_squared_error\n\u001b[32m----> \u001b[39m\u001b[32m2\u001b[39m \u001b[38;5;28;01mfrom\u001b[39;00m\u001b[38;5;250m \u001b[39m\u001b[34;01minsights\u001b[39;00m\u001b[34;01m.\u001b[39;00m\u001b[34;01mprompt_templates\u001b[39;00m\u001b[38;5;250m \u001b[39m\u001b[38;5;28;01mimport\u001b[39;00m COMPREHENSIVE_ANALYSIS_PROMPT\n\u001b[32m      3\u001b[39m \u001b[38;5;28;01mimport\u001b[39;00m\u001b[38;5;250m \u001b[39m\u001b[34;01mnumpy\u001b[39;00m\u001b[38;5;250m \u001b[39m\u001b[38;5;28;01mas\u001b[39;00m\u001b[38;5;250m \u001b[39m\u001b[34;01mnp\u001b[39;00m\n\u001b[32m      4\u001b[39m \u001b[38;5;28;01mimport\u001b[39;00m\u001b[38;5;250m \u001b[39m\u001b[34;01mlogging\u001b[39;00m\n",
      "\u001b[31mModuleNotFoundError\u001b[39m: No module named 'insights'"
     ]
    }
   ],
   "source": [
    "# Imports\n",
    "import os\n",
    "import json\n",
    "import sys\n",
    "from pathlib import Path\n",
    "from datetime import datetime\n",
    "import google.generativeai as genai\n",
    "\n",
    "\n",
    "PROJECT_ROOT = Path.cwd().parent.parent\n",
    "sys.path.insert(0, str(PROJECT_ROOT))\n",
    "\n",
    "from analysis.load_data import load_dataset\n",
    "from analysis.insights.prompt_templates import *\n",
    "from analysis.utils.preprocessing import prepare_reddit_for_llm, create_statistical_summary_for_llm\n",
    "from analysis.utils.evaluation import analyze_comprehensive_mental_health\n",
    "\n",
    "from dotenv import load_dotenv\n",
    "load_dotenv()"
   ]
  },
  {
   "cell_type": "code",
   "execution_count": null,
   "id": "9df96540",
   "metadata": {},
   "outputs": [],
   "source": [
    "# Configure Gemini\n",
    "genai.configure(api_key=os.environ.get(\"GEMINI_API_KEY\"))\n",
    "model = genai.GenerativeModel('gemini-pro')\n",
    "\n",
    "print(\"Gemini model loaded successfully\")"
   ]
  },
  {
   "cell_type": "code",
   "execution_count": 3,
   "id": "8e3b3144",
   "metadata": {},
   "outputs": [
    {
     "name": "stderr",
     "output_type": "stream",
     "text": [
      "INFO:snowflake.connector.connection:Snowflake Connector for Python Version: 3.16.0, Python Version: 3.11.13, Platform: macOS-15.4.1-x86_64-i386-64bit\n",
      "INFO:snowflake.connector.connection:Connecting to GLOBAL Snowflake domain\n",
      "/Users/Andrew/Desktop/Computer Science/Mental_Health_Project/analysis/load_data.py:43: UserWarning: pandas only supports SQLAlchemy connectable (engine/connection) or database string URI or sqlite3 DBAPI2 connection. Other DBAPI2 objects are not tested. Please consider using SQLAlchemy.\n",
      "  df = pd.read_sql(query, conn)\n",
      "INFO:analysis.load_data:Loaded 722 rows from reddit_extract.sql\n",
      "INFO:snowflake.connector.connection:Snowflake Connector for Python Version: 3.16.0, Python Version: 3.11.13, Platform: macOS-15.4.1-x86_64-i386-64bit\n",
      "INFO:snowflake.connector.connection:Connecting to GLOBAL Snowflake domain\n",
      "INFO:analysis.load_data:Loaded 72 rows from cdc_extract.sql\n",
      "INFO:snowflake.connector.connection:Snowflake Connector for Python Version: 3.16.0, Python Version: 3.11.13, Platform: macOS-15.4.1-x86_64-i386-64bit\n",
      "INFO:snowflake.connector.connection:Connecting to GLOBAL Snowflake domain\n",
      "INFO:analysis.load_data:Loaded 38316 rows from who_suicide_extract.sql\n",
      "INFO:snowflake.connector.connection:Snowflake Connector for Python Version: 3.16.0, Python Version: 3.11.13, Platform: macOS-15.4.1-x86_64-i386-64bit\n",
      "INFO:snowflake.connector.connection:Connecting to GLOBAL Snowflake domain\n",
      "INFO:analysis.load_data:Loaded 9914 rows from mental_health_care_extract.sql\n"
     ]
    }
   ],
   "source": [
    "# Load Reddit Data\n",
    "reddit_df = load_dataset('reddit')\n",
    "\n",
    "# Load CDC data\n",
    "cdc_df = load_dataset('cdc')\n",
    "\n",
    "# Load WHO Suicide data\n",
    "who_suicide_df = load_dataset('who_suicide')\n",
    "\n",
    "# Load Mental Health Care data\n",
    "mental_health_care_df = load_dataset('mental_health_care')"
   ]
  },
  {
   "cell_type": "code",
   "execution_count": null,
   "id": "2dbb0f9c",
   "metadata": {},
   "outputs": [],
   "source": [
    "# Prepare Reddit sample\n",
    "reddit_sample = prepare_reddit_for_llm(reddit_df)\n",
    "\n",
    "# Generate statistical summary\n",
    "statistical_data = create_statistical_summary_for_llm(cdc_df, who_suicide_df, mental_health_care_df)\n",
    "\n",
    "# Format statistical data for LLM\n",
    "stats_text = \"\"\n",
    "for dataset, stats in statistical_data.items():\n",
    "    stats_text += f\"\\n{dataset}:\\n\"\n",
    "    for key, value in stats.items():\n",
    "        stats_text += f\"- {key}: {value}\\n\"\n"
   ]
  },
  {
   "cell_type": "code",
   "execution_count": null,
   "id": "08522c5d",
   "metadata": {},
   "outputs": [],
   "source": [
    "# Run analysis with LLM\n",
    "comprehensive_analysis = analyze_comprehensive_mental_health(reddit_sample, stats_text, model)\n",
    "\n",
    "if comprehensive_analysis:\n",
    "    print(\"\\n\" + \"=\"*80)\n",
    "    print(\"COMPREHENSIVE MENTAL HEALTH DATA ANALYSIS\")\n",
    "    print(\"=\"*80)\n",
    "    print(comprehensive_analysis)\n",
    "else:\n",
    "    print(\"Analysis failed\")"
   ]
  },
  {
   "cell_type": "code",
   "execution_count": null,
   "id": "52cd09f0",
   "metadata": {},
   "outputs": [],
   "source": [
    "# Save analysis results\n",
    "if comprehensive_analysis:\n",
    "    # Save analysis to outputs\n",
    "    os.makedirs('../outputs/reports', exist_ok=True)\n",
    "    \n",
    "    # Create comprehensive report with metadata from all sources\n",
    "    report = {\n",
    "        'timestamp': datetime.now().isoformat(),\n",
    "        'analysis_type': 'comprehensive_mental_health',\n",
    "        'data_sources': {\n",
    "            'reddit_sample_size': len(reddit_sample.split('---'))-1,\n",
    "            'statistical_sources': list(statistical_data.keys()),\n",
    "            'cdc_records': len(cdc_df) if len(cdc_df) > 0 else 0,\n",
    "            'who_records': len(who_suicide_df) if len(who_suicide_df) > 0 else 0,\n",
    "            'care_records': len(mental_health_care_df) if len(mental_health_care_df) > 0 else 0\n",
    "        },\n",
    "        'analysis': comprehensive_analysis,\n",
    "        'data_summary': statistical_data\n",
    "    }\n",
    "    \n",
    "    filename = f\"../outputs/reports/comprehensive_mental_health_{datetime.now().strftime('%Y%m%d')}.json\"\n",
    "    \n",
    "    with open(filename, 'w') as f:\n",
    "        json.dump(report, f, indent=2, default=str)\n",
    "\n",
    "else:\n",
    "    print(\"No analysis to save - comprehensive analysis failed\")"
   ]
  }
 ],
 "metadata": {
  "kernelspec": {
   "display_name": "venv",
   "language": "python",
   "name": "python3"
  },
  "language_info": {
   "codemirror_mode": {
    "name": "ipython",
    "version": 3
   },
   "file_extension": ".py",
   "mimetype": "text/x-python",
   "name": "python",
   "nbconvert_exporter": "python",
   "pygments_lexer": "ipython3",
   "version": "3.11.13"
  }
 },
 "nbformat": 4,
 "nbformat_minor": 5
}
