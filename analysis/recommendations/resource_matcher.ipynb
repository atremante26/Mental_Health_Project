{
 "cells": [
  {
   "cell_type": "code",
   "execution_count": 1,
   "id": "0755847d",
   "metadata": {},
   "outputs": [],
   "source": [
    "# Imports\n",
    "import pickle\n",
    "import json\n",
    "import os\n",
    "from datetime import datetime\n",
    "import sys\n",
    "from pathlib import Path\n",
    "\n",
    "PROJECT_ROOT = Path.cwd().parent.parent\n",
    "sys.path.insert(0, str(PROJECT_ROOT))\n",
    "\n",
    "from analysis.load_data import load_dataset\n",
    "from analysis.recommendations.recommendation_utils import (\n",
    "    ResourceMatcher, \n",
    "    prepare_geographic_resources,\n",
    "    enhance_recommendations_with_location\n",
    ")"
   ]
  },
  {
   "cell_type": "code",
   "execution_count": 2,
   "id": "b472db13",
   "metadata": {},
   "outputs": [
    {
     "name": "stderr",
     "output_type": "stream",
     "text": [
      "INFO:snowflake.connector.connection:Snowflake Connector for Python Version: 3.16.0, Python Version: 3.11.13, Platform: macOS-15.4.1-x86_64-i386-64bit\n",
      "INFO:snowflake.connector.connection:Connecting to GLOBAL Snowflake domain\n",
      "/Users/Andrew/Desktop/Computer Science/Mental_Health_Project/analysis/load_data.py:43: UserWarning: pandas only supports SQLAlchemy connectable (engine/connection) or database string URI or sqlite3 DBAPI2 connection. Other DBAPI2 objects are not tested. Please consider using SQLAlchemy.\n",
      "  df = pd.read_sql(query, conn)\n",
      "INFO:analysis.load_data:Loaded 1227 rows from tech_survey_extract.sql\n",
      "INFO:snowflake.connector.connection:Snowflake Connector for Python Version: 3.16.0, Python Version: 3.11.13, Platform: macOS-15.4.1-x86_64-i386-64bit\n",
      "INFO:snowflake.connector.connection:Connecting to GLOBAL Snowflake domain\n",
      "INFO:analysis.load_data:Loaded 9914 rows from mental_health_care_extract.sql\n",
      "INFO:snowflake.connector.connection:Snowflake Connector for Python Version: 3.16.0, Python Version: 3.11.13, Platform: macOS-15.4.1-x86_64-i386-64bit\n",
      "INFO:snowflake.connector.connection:Connecting to GLOBAL Snowflake domain\n",
      "INFO:analysis.load_data:Loaded 38316 rows from who_suicide_extract.sql\n"
     ]
    },
    {
     "name": "stdout",
     "output_type": "stream",
     "text": [
      "Tech survey: 1227 responses\n",
      "Mental health care: 9914 records\n",
      "WHO data: 38316 records\n",
      "\n",
      "Tech survey features: ['Timestamp', 'Age', 'Gender', 'Country', 'state', 'self_employed', 'family_history', 'treatment', 'work_interfere', 'no_employees', 'remote_work', 'tech_company', 'benefits', 'care_options', 'wellness_program', 'seek_help', 'anonymity', 'leave', 'mental_health_consequence', 'phys_health_consequence', 'coworkers', 'supervisor', 'mental_health_interview', 'phys_health_interview', 'mental_vs_physical', 'obs_consequence', 'survey_date']\n"
     ]
    }
   ],
   "source": [
    "# Load Data\n",
    "tech_survey_df = load_dataset('tech_survey')\n",
    "mental_health_care_df = load_dataset('mental_health_care')\n",
    "who_suicide_df = load_dataset('who_suicide')\n",
    "\n",
    "print(f\"Tech survey: {len(tech_survey_df)} responses\")\n",
    "print(f\"Mental health care: {len(mental_health_care_df)} records\")\n",
    "print(f\"WHO data: {len(who_suicide_df)} records\")\n",
    "\n",
    "# Display available features for matching\n",
    "print(f\"\\nTech survey features: {list(tech_survey_df.columns)}\")"
   ]
  },
  {
   "cell_type": "code",
   "execution_count": null,
   "id": "b64b3730",
   "metadata": {},
   "outputs": [],
   "source": [
    "# Prepare geographic resource database\n",
    "geographic_resources = prepare_geographic_resources(mental_health_care_df, who_suicide_df)\n",
    "\n",
    "# Initialize ResourceMatcher\n",
    "enhanced_matcher = ResourceMatcher(tech_survey_df, geographic_resources)\n",
    "\n",
    "# Define features for matching\n",
    "matching_features = ['treatment', 'Gender', 'Age', 'Country'] \n",
    "enhanced_matcher.fit(matching_features)\n",
    "\n",
    "print(f\"Enhanced ResourceMatcher created with:\")\n",
    "print(f\"- Survey responses: {len(tech_survey_df)}\")\n",
    "print(f\"- Geographic resources for: {len(geographic_resources)} regions\") \n",
    "print(f\"- Matching features: {matching_features}\")"
   ]
  },
  {
   "cell_type": "code",
   "execution_count": null,
   "id": "2ec43afe",
   "metadata": {},
   "outputs": [],
   "source": [
    "# Test resource matching\n",
    "# Sample user profiles for testing\n",
    "test_users = [\n",
    "    {'treatment': 'No', 'Gender': 'Female', 'Age': 28, 'Country': 'United States'},\n",
    "    {'treatment': 'Yes', 'Gender': 'Male', 'Age': 35, 'Country': 'Canada'},\n",
    "    {'treatment': 'Maybe', 'Gender': 'Non-binary', 'Age': 30, 'Country': 'United Kingdom'}\n",
    "]\n",
    "\n",
    "for i, user_profile in enumerate(test_users):\n",
    "    print(f\"\\n{'='*50}\")\n",
    "    print(f\"USER {i+1}: {user_profile}\")\n",
    "    print('='*50)\n",
    "    \n",
    "    # Get enhanced recommendations with location\n",
    "    enhanced_recommendations = enhanced_matcher.match_resources(\n",
    "        user_profile, \n",
    "        include_location=True\n",
    "    )\n",
    "    \n",
    "    # Get similarity statistics for analysis\n",
    "    similarity_stats = enhanced_matcher.get_similarity_stats(user_profile)\n",
    "    \n",
    "    print(f\"Similarity Stats:\")\n",
    "    for stat, value in similarity_stats.items():\n",
    "        print(f\"  {stat}: {value:.3f}\")\n",
    "    \n",
    "    print(f\"\\nRecommended Resources:\")\n",
    "    for j, rec in enumerate(enhanced_recommendations[:8], 1):  # Show top 8\n",
    "        print(f\"  {j}. {rec}\")"
   ]
  },
  {
   "cell_type": "code",
   "execution_count": null,
   "id": "3f202106",
   "metadata": {},
   "outputs": [],
   "source": [
    "# Compare location-enhanced vs standard recommendations\n",
    "sample_user = {'treatment': 'No', 'Gender': 'Female', 'Age': 28, 'Country': 'United States'}\n",
    "\n",
    "# Standard recommendations (no location enhancement)\n",
    "standard_recs = enhanced_matcher.match_resources(sample_user, include_location=False)\n",
    "\n",
    "# Location-enhanced recommendations  \n",
    "enhanced_recs = enhanced_matcher.match_resources(sample_user, include_location=True)\n",
    "\n",
    "print(\"COMPARISON: Standard vs Location-Enhanced Recommendations\")\n",
    "print(\"=\"*60)\n",
    "print(f\"User Profile: {sample_user}\")\n",
    "\n",
    "print(f\"\\nStandard Recommendations ({len(standard_recs)}):\")\n",
    "for i, rec in enumerate(standard_recs, 1):\n",
    "    print(f\"  {i}. {rec}\")\n",
    "\n",
    "print(f\"\\nLocation-Enhanced Recommendations ({len(enhanced_recs)}):\")\n",
    "for i, rec in enumerate(enhanced_recs, 1):\n",
    "    print(f\"  {i}. {rec}\")\n",
    "\n",
    "print(f\"\\nAdditional resources from location enhancement: {len(enhanced_recs) - len(standard_recs)}\")"
   ]
  },
  {
   "cell_type": "code",
   "execution_count": null,
   "id": "788ac8d7",
   "metadata": {},
   "outputs": [],
   "source": [
    "# Create output directories\n",
    "os.makedirs('../models/saved_models', exist_ok=True)\n",
    "os.makedirs('../outputs/results', exist_ok=True)\n",
    "\n",
    "# Save the enhanced matcher\n",
    "timestamp = datetime.now().strftime('%Y%m%d')\n",
    "model_filename = f\"../models/saved_models/enhanced_resource_matcher_{timestamp}.pkl\"\n",
    "\n",
    "with open(model_filename, 'wb') as f:\n",
    "    pickle.dump(enhanced_matcher, f)\n",
    "\n",
    "print(f\"Enhanced ResourceMatcher saved to: {model_filename}\")\n",
    "\n",
    "# Save test results and geographic resources\n",
    "test_results = {\n",
    "    'timestamp': timestamp,\n",
    "    'model_type': 'enhanced_resource_matcher',\n",
    "    'features_used': matching_features,\n",
    "    'survey_records': len(tech_survey_df),\n",
    "    'geographic_regions': len(geographic_resources),\n",
    "    'test_users': test_users,\n",
    "    'geographic_resources': geographic_resources\n",
    "}\n",
    "\n",
    "results_filename = f\"../outputs/results/enhanced_recommendations_{timestamp}.json\"\n",
    "\n",
    "with open(results_filename, 'w') as f:\n",
    "    json.dump(test_results, f, indent=2, default=str)\n",
    "\n",
    "print(f\"Test results and geographic database saved to: {results_filename}\")\n",
    "print(f\"\\nEnhanced recommendation system complete with {len(geographic_resources)} geographic regions\")"
   ]
  }
 ],
 "metadata": {
  "kernelspec": {
   "display_name": "venv",
   "language": "python",
   "name": "python3"
  },
  "language_info": {
   "codemirror_mode": {
    "name": "ipython",
    "version": 3
   },
   "file_extension": ".py",
   "mimetype": "text/x-python",
   "name": "python",
   "nbconvert_exporter": "python",
   "pygments_lexer": "ipython3",
   "version": "3.11.13"
  }
 },
 "nbformat": 4,
 "nbformat_minor": 5
}
