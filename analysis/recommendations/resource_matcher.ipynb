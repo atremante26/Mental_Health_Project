{
 "cells": [
  {
   "cell_type": "code",
   "execution_count": null,
   "id": "0755847d",
   "metadata": {},
   "outputs": [],
   "source": [
    "# Imports\n",
    "import pandas as pd\n",
    "import numpy as np\n",
    "import pickle\n",
    "import os\n",
    "from datetime import datetime\n",
    "import sys\n",
    "sys.path.append('..')\n",
    "\n",
    "from load_data import load_dataset\n",
    "from recommendations.recommendation_utils import ResourceMatcher, calculate_response_similarity"
   ]
  },
  {
   "cell_type": "code",
   "execution_count": null,
   "id": "b472db13",
   "metadata": {},
   "outputs": [],
   "source": [
    "# Load Data\n",
    "tech_survey_df = load_dataset('tech_survey')\n",
    "print(f\"Loaded {len(tech_survey_df)} survey responses\")\n",
    "\n",
    "# Initialize ResourceMatcher\n",
    "matcher = ResourceMatcher(tech_survey_df)\n",
    "\n",
    "# Define features for matching (adjust based on your actual columns)\n",
    "matching_features = ['treatment', 'Gender', 'Age']  # Modify based on survey structure\n",
    "matcher.fit(matching_features)\n",
    "\n",
    "print(f\"ResourceMatcher fitted with features: {matching_features}\")"
   ]
  },
  {
   "cell_type": "code",
   "execution_count": null,
   "id": "2ec43afe",
   "metadata": {},
   "outputs": [],
   "source": [
    "# Test resource matching with sample user input\n",
    "# Simulate new user input\n",
    "sample_user = {\n",
    "    'treatment': 'No',\n",
    "    'Gender': 'Female', \n",
    "    'Age': 28\n",
    "}\n",
    "\n",
    "# Get resource recommendations\n",
    "recommendations = matcher.match_resources(sample_user, top_k=5)\n",
    "\n",
    "print(\"Sample user profile:\", sample_user)\n",
    "print(\"\\nRecommended resources:\")\n",
    "for i, rec in enumerate(recommendations, 1):\n",
    "    print(f\"{i}. {rec}\")"
   ]
  },
  {
   "cell_type": "code",
   "execution_count": null,
   "id": "3f202106",
   "metadata": {},
   "outputs": [],
   "source": [
    "# Batch processing for multiple users\n",
    "def process_user_batch(user_profiles, matcher):\n",
    "    \"\"\"Process multiple user profiles for recommendations\"\"\"\n",
    "    results = []\n",
    "    \n",
    "    for i, user_profile in enumerate(user_profiles):\n",
    "        recommendations = matcher.match_resources(user_profile)\n",
    "        results.append({\n",
    "            'user_id': i,\n",
    "            'profile': user_profile,\n",
    "            'recommendations': recommendations\n",
    "        })\n",
    "    \n",
    "    return results\n",
    "\n",
    "# Test with multiple sample users\n",
    "sample_users = [\n",
    "    {'treatment': 'Yes', 'Gender': 'Male', 'Age': 35},\n",
    "    {'treatment': 'No', 'Gender': 'Female', 'Age': 22},\n",
    "    {'treatment': 'Maybe', 'Gender': 'Non-binary', 'Age': 30}\n",
    "]\n",
    "\n",
    "batch_results = process_user_batch(sample_users, matcher)\n",
    "\n",
    "for result in batch_results:\n",
    "    print(f\"\\nUser {result['user_id']}: {result['profile']}\")\n",
    "    print(\"Recommendations:\", result['recommendations'][:3])  # Show top 3"
   ]
  },
  {
   "cell_type": "code",
   "execution_count": null,
   "id": "788ac8d7",
   "metadata": {},
   "outputs": [],
   "source": [
    "# Evaluate similarity patterns\n",
    "similarity_scores = calculate_response_similarity(\n",
    "    sample_user, \n",
    "    tech_survey_df, \n",
    "    matching_features\n",
    ")\n",
    "\n",
    "print(f\"Similarity score distribution:\")\n",
    "print(f\"Mean: {similarity_scores.mean():.3f}\")\n",
    "print(f\"Std: {similarity_scores.std():.3f}\")\n",
    "print(f\"Max: {similarity_scores.max():.3f}\")\n",
    "\n",
    "# Find most similar responses\n",
    "top_similar_indices = similarity_scores.argsort()[-5:][::-1]\n",
    "print(f\"\\nMost similar survey responses:\")\n",
    "for idx in top_similar_indices:\n",
    "    print(f\"Similarity: {similarity_scores[idx]:.3f}\")"
   ]
  },
  {
   "cell_type": "code",
   "execution_count": null,
   "id": "6ca881e5",
   "metadata": {},
   "outputs": [],
   "source": [
    "# Save recommendation system\n",
    "# Create output directories\n",
    "os.makedirs('../models/saved_models', exist_ok=True)\n",
    "os.makedirs('../outputs/results', exist_ok=True)\n",
    "\n",
    "# Save the trained matcher\n",
    "timestamp = datetime.now().strftime('%Y%m%d')\n",
    "model_filename = f\"../models/saved_models/resource_matcher_{timestamp}.pkl\"\n",
    "\n",
    "with open(model_filename, 'wb') as f:\n",
    "    pickle.dump(matcher, f)\n",
    "\n",
    "print(f\"ResourceMatcher saved to: {model_filename}\")\n",
    "\n",
    "# Save sample recommendations for evaluation\n",
    "results_filename = f\"../outputs/results/resource_recommendations_{timestamp}.json\"\n",
    "import json\n",
    "\n",
    "with open(results_filename, 'w') as f:\n",
    "    json.dump(batch_results, f, indent=2, default=str)\n",
    "\n",
    "print(f\"Sample recommendations saved to: {results_filename}\")"
   ]
  }
 ],
 "metadata": {
  "language_info": {
   "name": "python"
  }
 },
 "nbformat": 4,
 "nbformat_minor": 5
}
