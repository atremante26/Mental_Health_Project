{
 "cells": [
  {
   "cell_type": "code",
   "execution_count": null,
   "id": "6e4012a4",
   "metadata": {},
   "outputs": [],
   "source": [
    "# Imports\n",
    "import pandas as pd\n",
    "import numpy as np\n",
    "import matplotlib.pyplot as plt\n",
    "import seaborn as sns\n",
    "import sys\n",
    "sys.path.append('..')\n",
    "\n",
    "from load_data import load_dataset\n",
    "from utils.preprocessing import prepare_time_series\n",
    "from config.model_config import FORECASTING_CONFIG\n",
    "from forecasting.forecasting_utils import train_prophet_model, evaluate_forecast_model, save_forecast_results, cross_validate_timeseries"
   ]
  },
  {
   "cell_type": "code",
   "execution_count": null,
   "id": "b5b92c8c",
   "metadata": {},
   "outputs": [],
   "source": [
    "# Load data\n",
    "# Load CDC data (anxiety/depression prevalence over time)\n",
    "cdc_df = load_dataset('cdc')\n",
    "print(f\"CDC data: {len(cdc_df)} records\")\n",
    "print(f\"Date range: {cdc_df['date'].min()} to {cdc_df['date'].max()}\")\n",
    "\n",
    "# Load Google Trends data\n",
    "trends_df = load_dataset('trends')  \n",
    "print(f\"Trends data: {len(trends_df)} records\")\n",
    "print(f\"Date range: {trends_df['date'].min()} to {trends_df['date'].max()}\")\n",
    "\n",
    "# Display data structure\n",
    "print(\"\\nCDC columns:\", list(cdc_df.columns))\n",
    "print(\"Trends columns:\", list(trends_df.columns))"
   ]
  },
  {
   "cell_type": "code",
   "execution_count": null,
   "id": "5b463a3c",
   "metadata": {},
   "outputs": [],
   "source": [
    "# Prepare CDC anxiety data for Prophet\n",
    "cdc_anxiety = prepare_time_series(cdc_df, 'date', 'anxiety')\n",
    "\n",
    "# Prophet requires 'ds' and 'y' columns\n",
    "prophet_data = cdc_anxiety.reset_index()\n",
    "prophet_data.columns = ['ds', 'y']\n",
    "prophet_data['ds'] = pd.to_datetime(prophet_data['ds'])\n",
    "\n",
    "print(f\"Prophet data shape: {prophet_data.shape}\")\n",
    "print(f\"Date range: {prophet_data['ds'].min()} to {prophet_data['ds'].max()}\")\n",
    "\n",
    "# Plot the time series\n",
    "plt.figure(figsize=(12, 6))\n",
    "plt.plot(prophet_data['ds'], prophet_data['y'])\n",
    "plt.title('CDC Anxiety Prevalence Over Time')\n",
    "plt.xlabel('Date')\n",
    "plt.ylabel('Anxiety Prevalence (%)')\n",
    "plt.xticks(rotation=45)\n",
    "plt.show()"
   ]
  },
  {
   "cell_type": "code",
   "execution_count": null,
   "id": "326d66dc",
   "metadata": {},
   "outputs": [],
   "source": [
    "# Train Prophet model\n",
    "config = FORECASTING_CONFIG['prophet']\n",
    "\n",
    "# Train model using utility function\n",
    "model = train_prophet_model(prophet_data, config)"
   ]
  },
  {
   "cell_type": "code",
   "execution_count": null,
   "id": "f6b3d47a",
   "metadata": {},
   "outputs": [],
   "source": [
    "# Generate forecasts\n",
    "periods = 90  # Forecast 90 days ahead\n",
    "future = model.make_future_dataframe(periods=periods)\n",
    "forecast = model.predict(future)\n",
    "\n",
    "print(f\"Forecast shape: {forecast.shape}\")\n",
    "print(f\"Forecast extends to: {forecast['ds'].max()}\")"
   ]
  },
  {
   "cell_type": "code",
   "execution_count": null,
   "id": "6343580e",
   "metadata": {},
   "outputs": [],
   "source": [
    "# Visualize forecasts\n",
    "fig1 = model.plot(forecast)\n",
    "plt.title('CDC Anxiety Prevalence Forecast')\n",
    "plt.ylabel('Anxiety Prevalence (%)')\n",
    "plt.show()\n",
    "\n",
    "fig2 = model.plot_components(forecast)\n",
    "plt.show()"
   ]
  },
  {
   "cell_type": "code",
   "execution_count": null,
   "id": "6d969558",
   "metadata": {},
   "outputs": [],
   "source": [
    "# Evaluate model performance using utilities\n",
    "if len(prophet_data) > 30:\n",
    "    # Split data for validation\n",
    "    train_size = int(len(prophet_data) * 0.8)\n",
    "    train_data = prophet_data[:train_size]\n",
    "    test_data = prophet_data[train_size:]\n",
    "    \n",
    "    # Train evaluation model\n",
    "    eval_model = train_prophet_model(train_data, config)\n",
    "    \n",
    "    # Evaluate performance\n",
    "    metrics = evaluate_forecast_model(eval_model, train_data, test_data, model_type='prophet')\n",
    "    \n",
    "    print(\"Model Evaluation:\")\n",
    "    for metric, value in metrics.items():\n",
    "        print(f\"{metric.upper()}: {value:.3f}\")\n",
    "else:\n",
    "    print(\"Insufficient data for evaluation\")"
   ]
  },
  {
   "cell_type": "code",
   "execution_count": null,
   "id": "06f9d396",
   "metadata": {},
   "outputs": [],
   "source": [
    "# Save model and results\n",
    "timestamp = pd.Timestamp.now().strftime(\"%Y%m%d\")\n",
    "save_forecast_results(model, forecast, f'cdc_anxiety_{timestamp}')\n",
    "print(\"Forecast model and results saved\")"
   ]
  },
  {
   "cell_type": "code",
   "execution_count": null,
   "id": "d06d221c",
   "metadata": {},
   "outputs": [],
   "source": [
    "# Cross-validation\n",
    "if len(prophet_data) > 365:\n",
    "    try:\n",
    "        cv_results, cv_metrics = cross_validate_timeseries(prophet_data, config)\n",
    "        print(\"Cross-validation metrics:\")\n",
    "        print(cv_metrics.describe())\n",
    "    except Exception as e:\n",
    "        print(f\"Cross-validation failed: {e}\")\n",
    "        print(\"Likely insufficient data for time series cross-validation\")\n",
    "else:\n",
    "    print(\"Need more data for cross-validation\")"
   ]
  }
 ],
 "metadata": {
  "language_info": {
   "name": "python"
  }
 },
 "nbformat": 4,
 "nbformat_minor": 5
}
