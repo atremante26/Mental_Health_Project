{
 "cells": [
  {
   "cell_type": "code",
   "execution_count": null,
   "id": "6e4012a4",
   "metadata": {},
   "outputs": [],
   "source": [
    "# Imports\n",
    "import pandas as pd\n",
    "import matplotlib.pyplot as plt\n",
    "import sys\n",
    "sys.path.append('..')\n",
    "\n",
    "from load_data import load_dataset\n",
    "from utils.preprocessing import prepare_time_series, prepare_who_time_series\n",
    "from config.model_config import FORECASTING_CONFIG\n",
    "from forecasting.forecasting_utils import train_prophet_model, evaluate_forecast_model, save_forecast_results, cross_validate_timeseries"
   ]
  },
  {
   "cell_type": "code",
   "execution_count": null,
   "id": "b5b92c8c",
   "metadata": {},
   "outputs": [],
   "source": [
    "# Load CDC data\n",
    "cdc_df = load_dataset('cdc')\n",
    "\n",
    "# Load Google Trends data\n",
    "trends_df = load_dataset('trends')  \n",
    "\n",
    "# Load WHO suicide data\n",
    "who_suicide_df = load_dataset('who_suicide')"
   ]
  },
  {
   "cell_type": "code",
   "execution_count": null,
   "id": "5b463a3c",
   "metadata": {},
   "outputs": [],
   "source": [
    "\n",
    "# Prepare CDC anxiety data\n",
    "cdc_ts = prepare_time_series(cdc_df, 'date', 'anxiety')\n",
    "\n",
    "# Prepare Google Trends data\n",
    "trends_ts = prepare_time_series(trends_df, 'date', 'interest')\n",
    "\n",
    "# Prepare WHO suicide data\n",
    "who_suicide_ts = prepare_who_time_series(who_suicide_df, 'year', 'suicides_no')\n",
    "\n",
    "# Convert all to Prophet format\n",
    "datasets_to_forecast = {}\n",
    "\n",
    "# CDC data\n",
    "cdc_prophet = cdc_ts.reset_index()\n",
    "cdc_prophet.columns = ['ds', 'y']\n",
    "datasets_to_forecast['cdc_anxiety'] = cdc_prophet\n",
    "\n",
    "# Google Trends data\n",
    "trends_prophet = trends_ts.reset_index()\n",
    "trends_prophet.columns = ['ds', 'y']\n",
    "datasets_to_forecast['google_trends'] = trends_prophet\n",
    "\n",
    "# WHO data\n",
    "who_prophet = who_suicide_ts.reset_index()\n",
    "who_prophet.columns = ['ds', 'y']\n",
    "datasets_to_forecast['who_suicides'] = who_prophet\n",
    "\n",
    "# Plot all time series for comparison\n",
    "fig, axes = plt.subplots(3, 1, figsize=(15, 12))\n",
    "\n",
    "for i, (name, data) in enumerate(datasets_to_forecast.items()):\n",
    "    axes[i].plot(data['ds'], data['y'])\n",
    "    axes[i].set_title(f'{name.replace(\"_\", \" \").title()} Over Time')\n",
    "    axes[i].set_xlabel('Date')\n",
    "    axes[i].tick_params(axis='x', rotation=45)\n",
    "\n",
    "plt.tight_layout()\n",
    "plt.show()"
   ]
  },
  {
   "cell_type": "code",
   "execution_count": null,
   "id": "326d66dc",
   "metadata": {},
   "outputs": [],
   "source": [
    "# Train Prophet model\n",
    "config = FORECASTING_CONFIG['prophet']\n",
    "\n",
    "# Train model using utility function\n",
    "model = train_prophet_model(prophet_data, config)"
   ]
  },
  {
   "cell_type": "code",
   "execution_count": null,
   "id": "f6b3d47a",
   "metadata": {},
   "outputs": [],
   "source": [
    "# Generate forecasts\n",
    "periods = 90  # Forecast 90 days ahead\n",
    "future = model.make_future_dataframe(periods=periods)\n",
    "forecast = model.predict(future)\n",
    "\n",
    "print(f\"Forecast shape: {forecast.shape}\")\n",
    "print(f\"Forecast extends to: {forecast['ds'].max()}\")"
   ]
  },
  {
   "cell_type": "code",
   "execution_count": null,
   "id": "6343580e",
   "metadata": {},
   "outputs": [],
   "source": [
    "# Visualize forecasts\n",
    "fig1 = model.plot(forecast)\n",
    "plt.title('CDC Anxiety Prevalence Forecast')\n",
    "plt.ylabel('Anxiety Prevalence (%)')\n",
    "plt.show()\n",
    "\n",
    "fig2 = model.plot_components(forecast)\n",
    "plt.show()"
   ]
  },
  {
   "cell_type": "code",
   "execution_count": null,
   "id": "6d969558",
   "metadata": {},
   "outputs": [],
   "source": [
    "# Evaluate model performance using utilities\n",
    "if len(prophet_data) > 30:\n",
    "    # Split data for validation\n",
    "    train_size = int(len(prophet_data) * 0.8)\n",
    "    train_data = prophet_data[:train_size]\n",
    "    test_data = prophet_data[train_size:]\n",
    "    \n",
    "    # Train evaluation model\n",
    "    eval_model = train_prophet_model(train_data, config)\n",
    "    \n",
    "    # Evaluate performance\n",
    "    metrics = evaluate_forecast_model(eval_model, train_data, test_data, model_type='prophet')\n",
    "    \n",
    "    print(\"Model Evaluation:\")\n",
    "    for metric, value in metrics.items():\n",
    "        print(f\"{metric.upper()}: {value:.3f}\")\n",
    "else:\n",
    "    print(\"Insufficient data for evaluation\")"
   ]
  },
  {
   "cell_type": "code",
   "execution_count": null,
   "id": "06f9d396",
   "metadata": {},
   "outputs": [],
   "source": [
    "# Save model and results\n",
    "timestamp = pd.Timestamp.now().strftime(\"%Y%m%d\")\n",
    "save_forecast_results(model, forecast, f'cdc_anxiety_{timestamp}')\n",
    "print(\"Forecast model and results saved\")"
   ]
  },
  {
   "cell_type": "code",
   "execution_count": null,
   "id": "d06d221c",
   "metadata": {},
   "outputs": [],
   "source": [
    "# Cross-validation\n",
    "if len(prophet_data) > 365:\n",
    "    try:\n",
    "        cv_results, cv_metrics = cross_validate_timeseries(prophet_data, config)\n",
    "        print(\"Cross-validation metrics:\")\n",
    "        print(cv_metrics.describe())\n",
    "    except Exception as e:\n",
    "        print(f\"Cross-validation failed: {e}\")\n",
    "        print(\"Likely insufficient data for time series cross-validation\")\n",
    "else:\n",
    "    print(\"Need more data for cross-validation\")"
   ]
  }
 ],
 "metadata": {
  "language_info": {
   "name": "python"
  }
 },
 "nbformat": 4,
 "nbformat_minor": 5
}
